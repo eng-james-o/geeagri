{
 "cells": [
  {
   "cell_type": "markdown",
   "metadata": {},
   "source": [
    "# Introduction to geeagri\n",
    "geeagri is a Python package for agricultural monitoring and analysis using Google Earth Engine (GEE). It provides utilities for extracting, analyzing, and visualizing time series data from satellite imagery.\n",
    "\n",
    "## Features\n",
    "- Extract time series data for points and polygons\n",
    "- Perform harmonic regression on time series\n",
    "- Visualize and export results\n",
    "- Built on Google Earth Engine and pandas\n",
    "\n",
    "## Installation\n",
    "Install the latest release from PyPI:\n",
    "```bash\n",
    "pip install geeagri\n",
    "```\n",
    "Or install the development version:\n",
    "```bash\n",
    "pip install git+https://github.com/geonextgis/geeagri\n",
    "```\n",
    "\n",
    "## Getting Started\n",
    "Below is a basic example of how to use geeagri to extract a time series from a point."
   ]
  },
  {
   "cell_type": "code",
   "execution_count": null,
   "metadata": {},
   "outputs": [],
   "source": [
    "# Import geeagri\n",
    "import geeagri\n",
    "\n",
    "# Import Earth Engine\n",
    "import ee\n",
    "\n",
    "# Authenticate and initialize Earth Engine\n",
    "# This step is necessary to access Earth Engine's functionalities.\n",
    "# \n",
    "ee.Authenticate()\n",
    "ee.Initialize(project='your-project-id')  # Replace 'your-project-id' with your actual project ID\n",
    "# ee.Initialize()  # Uncomment this line if you want to initialize without specifying a project ID"
   ]
  },
  {
   "cell_type": "markdown",
   "metadata": {},
   "source": [
    "## Extracting a Time Series for a Point\n",
    "You can extract a time series of a specific band (e.g., NDVI) at a given latitude and longitude using the `extract_timeseries_to_point` function."
   ]
  },
  {
   "cell_type": "code",
   "execution_count": null,
   "metadata": {},
   "outputs": [],
   "source": [
    "# Example: Extract NDVI time series at a point\n",
    "lat = 6.5244  # Example: Lagos, Nigeria\n",
    "lon = 3.3792\n",
    "\n",
    "collection = ee.ImageCollection('LANDSAT/LC08/C01/T1_SR')\n",
    "band = 'NDVI'\n",
    "start_date = '2020-01-01'\n",
    "end_date = '2020-12-31'\n",
    "scale = 30\n",
    "\n",
    "df = geeagri.extract_timeseries_to_point(\n",
    "    lat, lon, collection, start_date, end_date, band_names=[band], scale=scale)\n",
    "df.head()"
   ]
  },
  {
   "cell_type": "markdown",
   "metadata": {},
   "source": [
    "The above code returns a pandas DataFrame with the NDVI values at the specified point for each date in the selected period.\n",
    "\n",
    "You can now visualize or analyze the time series as needed."
   ]
  },
  {
   "cell_type": "code",
   "execution_count": null,
   "metadata": {},
   "outputs": [],
   "source": [
    "# Plot the NDVI time series using matplotlib\n",
    "import matplotlib.pyplot as plt\n",
    "\n",
    "df.plot(x='time', y='NDVI', marker='o', linestyle='-')\n",
    "plt.title('NDVI Time Series at Point')\n",
    "plt.xlabel('Date')\n",
    "plt.ylabel('NDVI')\n",
    "plt.show()"
   ]
  }
 ],
 "metadata": {
  "language_info": {
   "name": "python"
  }
 },
 "nbformat": 4,
 "nbformat_minor": 2
}
